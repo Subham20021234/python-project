{
 "cells": [
  {
   "cell_type": "code",
   "execution_count": 1,
   "id": "f76d00fd",
   "metadata": {},
   "outputs": [],
   "source": [
    "students=[]\n",
    "def add_student():\n",
    "    name = input(\"Enter student name: \")\n",
    "    roll_no = input(\"Enter student roll number: \")\n",
    "    marks_1 = float(input(\"Enter marks for subject 1: \"))\n",
    "    marks_2 = float(input(\"Enter marks for subject 2: \"))\n",
    "\n",
    "    student = {\n",
    "        \"student_name\": name,\n",
    "        \"student_roll_number\": roll_no,\n",
    "        \"subject_1_marks\": marks_1,\n",
    "        \"subject_2_marks\": marks_2\n",
    "    }\n",
    "\n",
    "    students.append(student)\n",
    "    print(\"Student data accepted.\")\n",
    "\n",
    "def show_student_data():\n",
    "    if not students:\n",
    "        print(\"Sorry, No data available !!\")\n",
    "        return\n",
    "\n",
    "    print(\"Student Data:\")\n",
    "    for student in students:\n",
    "        print(\"Name:\", student[\"student_name\"])\n",
    "        print(\"Roll Number:\", student[\"student_roll_number\"])\n",
    "        print(\"Marks_1:\", student[\"subject_1_marks\"])\n",
    "        print(\"Marks_2:\", student[\"subject_2_marks\"])\n",
    "        print()\n",
    "\n",
    "def find_student_by_name(name):\n",
    "    found_students = []\n",
    "    for student in students:\n",
    "        if student[\"student_name\"].lower() == name.lower():\n",
    "            found_students.append(student)\n",
    "\n",
    "    if not found_students:\n",
    "        print(\"Sorry, No student found !!\")\n",
    "        return\n",
    "\n",
    "    print(\"Student(s) Found:\")\n",
    "    for student in found_students:\n",
    "        print(\"Name:\", student[\"student_name\"])\n",
    "        print(\"Roll_Number:\", student[\"student_roll_number\"])\n",
    "        print(\"Marks_1:\", student[\"subject_1_marks\"])\n",
    "        print(\"Marks_2:\", student[\"subject_2_marks\"])\n",
    "        print()\n",
    "\n",
    "def delete_data(roll_number):\n",
    "    for student in students:\n",
    "        if student[\"student_roll_number\"] == roll_number:\n",
    "            students.remove(student)\n",
    "            print(\"Data deleted successfully.\")\n",
    "            return\n",
    "\n",
    "    print(\"Sorry, No student found !!\")\n",
    "\n",
    "def update_student(roll_number):\n",
    "    for student in students:\n",
    "        if student[\"student_roll_number\"] == roll_number:\n",
    "            print(\"Enter updated details for the student:\")\n",
    "            student[\"student_name\"] = input(\"Enter updated name: \")\n",
    "            student[\"student_roll_number\"] = input(\"Enter updated roll number: \")\n",
    "            student[\"subject_1_marks\"] = float(input(\"Enter updated marks for subject 1: \"))\n",
    "            student[\"subject_2_marks\"] = float(input(\"Enter updated marks for subject 2: \"))\n",
    "            print(\"Data updated successfully.\")\n",
    "            return\n",
    "\n",
    "    print(\"Sorry, provide the valid roll_no.\")"
   ]
  },
  {
   "cell_type": "code",
   "execution_count": 2,
   "id": "9d22b314",
   "metadata": {},
   "outputs": [
    {
     "name": "stdout",
     "output_type": "stream",
     "text": [
      "Enter student name: subham sovendu das\n",
      "Enter student roll number: 363\n",
      "Enter marks for subject 1: 85\n",
      "Enter marks for subject 2: 90\n",
      "Student data accepted.\n"
     ]
    }
   ],
   "source": [
    "add_student()"
   ]
  },
  {
   "cell_type": "code",
   "execution_count": 3,
   "id": "1c918313",
   "metadata": {},
   "outputs": [
    {
     "name": "stdout",
     "output_type": "stream",
     "text": [
      "Enter student name: ayush dash\n",
      "Enter student roll number: 361\n",
      "Enter marks for subject 1: 95\n",
      "Enter marks for subject 2: 95\n",
      "Student data accepted.\n"
     ]
    }
   ],
   "source": [
    "add_student()"
   ]
  },
  {
   "cell_type": "code",
   "execution_count": 4,
   "id": "cb9d4fda",
   "metadata": {},
   "outputs": [
    {
     "name": "stdout",
     "output_type": "stream",
     "text": [
      "Enter student name: amrit behera\n",
      "Enter student roll number: 80\n",
      "Enter marks for subject 1: 80\n",
      "Enter marks for subject 2: 99\n",
      "Student data accepted.\n"
     ]
    }
   ],
   "source": [
    "add_student()"
   ]
  },
  {
   "cell_type": "code",
   "execution_count": 5,
   "id": "9c577727",
   "metadata": {
    "scrolled": true
   },
   "outputs": [
    {
     "name": "stdout",
     "output_type": "stream",
     "text": [
      "Student Data:\n",
      "Name: subham sovendu das\n",
      "Roll Number: 363\n",
      "Marks_1: 85.0\n",
      "Marks_2: 90.0\n",
      "\n",
      "Name: ayush dash\n",
      "Roll Number: 361\n",
      "Marks_1: 95.0\n",
      "Marks_2: 95.0\n",
      "\n",
      "Name: amrit behera\n",
      "Roll Number: 80\n",
      "Marks_1: 80.0\n",
      "Marks_2: 99.0\n",
      "\n"
     ]
    }
   ],
   "source": [
    "show_student_data()"
   ]
  },
  {
   "cell_type": "code",
   "execution_count": 7,
   "id": "c23f1fdb",
   "metadata": {},
   "outputs": [
    {
     "name": "stdout",
     "output_type": "stream",
     "text": [
      "Student(s) Found:\n",
      "Name: subham sovendu das\n",
      "Roll_Number: 363\n",
      "Marks_1: 85.0\n",
      "Marks_2: 90.0\n",
      "\n"
     ]
    }
   ],
   "source": [
    "find_student_by_name(\"subham sovendu das\")"
   ]
  },
  {
   "cell_type": "code",
   "execution_count": 9,
   "id": "480dffde",
   "metadata": {},
   "outputs": [
    {
     "name": "stdout",
     "output_type": "stream",
     "text": [
      "Enter updated details for the student:\n",
      "Enter updated name: Amrit kumar behera\n",
      "Enter updated roll number: 82\n",
      "Enter updated marks for subject 1: 80\n",
      "Enter updated marks for subject 2: 95\n",
      "Data updated successfully.\n"
     ]
    }
   ],
   "source": [
    "update_student(\"80\")"
   ]
  },
  {
   "cell_type": "code",
   "execution_count": 10,
   "id": "1ac1b36a",
   "metadata": {},
   "outputs": [
    {
     "name": "stdout",
     "output_type": "stream",
     "text": [
      "Student Data:\n",
      "Name: subham sovendu das\n",
      "Roll Number: 363\n",
      "Marks_1: 85.0\n",
      "Marks_2: 90.0\n",
      "\n",
      "Name: ayush dash\n",
      "Roll Number: 361\n",
      "Marks_1: 95.0\n",
      "Marks_2: 95.0\n",
      "\n",
      "Name: Amrit kumar behera\n",
      "Roll Number: 82\n",
      "Marks_1: 80.0\n",
      "Marks_2: 95.0\n",
      "\n"
     ]
    }
   ],
   "source": [
    "show_student_data()"
   ]
  },
  {
   "cell_type": "code",
   "execution_count": 11,
   "id": "d92bb723",
   "metadata": {},
   "outputs": [
    {
     "name": "stdout",
     "output_type": "stream",
     "text": [
      "Data deleted successfully.\n"
     ]
    }
   ],
   "source": [
    "delete_data(\"82\")"
   ]
  },
  {
   "cell_type": "code",
   "execution_count": 12,
   "id": "4e81519e",
   "metadata": {},
   "outputs": [
    {
     "name": "stdout",
     "output_type": "stream",
     "text": [
      "Student Data:\n",
      "Name: subham sovendu das\n",
      "Roll Number: 363\n",
      "Marks_1: 85.0\n",
      "Marks_2: 90.0\n",
      "\n",
      "Name: ayush dash\n",
      "Roll Number: 361\n",
      "Marks_1: 95.0\n",
      "Marks_2: 95.0\n",
      "\n"
     ]
    }
   ],
   "source": [
    "show_student_data()"
   ]
  },
  {
   "cell_type": "code",
   "execution_count": null,
   "id": "b53d72f2",
   "metadata": {},
   "outputs": [],
   "source": []
  }
 ],
 "metadata": {
  "kernelspec": {
   "display_name": "Python 3 (ipykernel)",
   "language": "python",
   "name": "python3"
  },
  "language_info": {
   "codemirror_mode": {
    "name": "ipython",
    "version": 3
   },
   "file_extension": ".py",
   "mimetype": "text/x-python",
   "name": "python",
   "nbconvert_exporter": "python",
   "pygments_lexer": "ipython3",
   "version": "3.10.5"
  }
 },
 "nbformat": 4,
 "nbformat_minor": 5
}
