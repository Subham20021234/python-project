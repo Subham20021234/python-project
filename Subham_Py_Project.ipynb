{
 "cells": [
  {
   "cell_type": "code",
   "execution_count": 2,
   "id": "3fa38087",
   "metadata": {},
   "outputs": [],
   "source": [
    "students=[]\n",
    "def student_admission():\n",
    "    n = input(\"Enter student name: \")\n",
    "    roll_no = input(\"Enter student roll number: \")\n",
    "    m1 = float(input(\"Enter marks for math: \"))\n",
    "    m2 = float(input(\"Enter marks for science: \"))\n",
    "    m3 = float(input(\"Enter marks for python :\"))\n",
    "\n",
    "    student = {\n",
    "        \"student_name\": n,\n",
    "        \"student_roll_number\": roll_no,\n",
    "        \"subject_1_marks\": m1,\n",
    "        \"subject_2_marks\": m2,\n",
    "        \"subject_3_marks\": m3\n",
    "    }\n",
    "\n",
    "    students.append(student)\n",
    "    print(\"Student data accepted.\")\n",
    "\n",
    "def display_data():\n",
    "    if not students:\n",
    "        print(\"data not available\")\n",
    "        return\n",
    "\n",
    "    print(\"Student Data:\")\n",
    "    for student in students:\n",
    "        print(\"Name:\", student[\"student_name\"])\n",
    "        print(\"Roll Number:\", student[\"student_roll_number\"])\n",
    "        print(\"math:\", student[\"subject_1_marks\"])\n",
    "        print(\"science:\", student[\"subject_2_marks\"])\n",
    "        print(\"python:\", student[\"subject_3_marks\"])\n",
    "        print()\n",
    "\n",
    "def  display_data_by_name(name):\n",
    "    found_students = []\n",
    "    for student in students:\n",
    "        if student[\"student_name\"].lower() == name.lower():\n",
    "            found_students.append(student)\n",
    "\n",
    "    if not found_students:\n",
    "        print(\"Sorry, data not found !!\")\n",
    "        return\n",
    "\n",
    "    print(\"Student(s) Found:\")\n",
    "    for student in found_students:\n",
    "        print(\"Name:\", student[\"student_name\"])\n",
    "        print(\"Roll_Number:\", student[\"student_roll_number\"])\n",
    "        print(\"math:\", student[\"subject_1_marks\"])\n",
    "        print(\"science:\", student[\"subject_2_marks\"])\n",
    "        print(\"python:\", student[\"subject_3_marks\"])\n",
    "        print()\n",
    "\n",
    "def del_data(roll_number):\n",
    "    for student in students:\n",
    "        if student[\"student_roll_number\"] == roll_number:\n",
    "            students.remove(student)\n",
    "            print(\"Data deleted successfully.\")\n",
    "            return\n",
    "\n",
    "    print(\"sorry,enter valid roll no !!\")\n",
    "\n",
    "def update_student(roll_number):\n",
    "    for student in students:\n",
    "        if student[\"student_roll_number\"] == roll_number:\n",
    "            print(\"Enter updated details for the student:\")\n",
    "            student[\"student_name\"] = input(\"Enter updated name: \")\n",
    "            student[\"student_roll_number\"] = input(\"Enter updated roll number: \")\n",
    "            student[\"subject_1_marks\"] = float(input(\"Enter updated marks for math: \"))\n",
    "            student[\"subject_2_marks\"] = float(input(\"Enter updated marks for science: \"))\n",
    "            student[\"subject_3_marks\"] = float(input(\"Enter updated marks for python: \"))\n",
    "            print(\"Data updated successfully.\")\n",
    "            return\n",
    "\n",
    "    print(\"Sorry, provide the valid roll_no.\")\n",
    " "
   ]
  },
  {
   "cell_type": "code",
   "execution_count": 8,
   "id": "e0d2a5c4",
   "metadata": {},
   "outputs": [
    {
     "name": "stdout",
     "output_type": "stream",
     "text": [
      "Enter student name: subham suvendu das\n",
      "Enter student roll number: 363\n",
      "Enter marks for math: 95\n",
      "Enter marks for science: 95\n",
      "Enter marks for python :98\n",
      "Student data accepted.\n"
     ]
    }
   ],
   "source": [
    "student_admission()"
   ]
  },
  {
   "cell_type": "code",
   "execution_count": 9,
   "id": "e4f5f641",
   "metadata": {},
   "outputs": [
    {
     "name": "stdout",
     "output_type": "stream",
     "text": [
      "Enter student name: smrutiranjan behera\n",
      "Enter student roll number: 364\n",
      "Enter marks for math: 95\n",
      "Enter marks for science: 95\n",
      "Enter marks for python :78\n",
      "Student data accepted.\n"
     ]
    }
   ],
   "source": [
    "student_admission()"
   ]
  },
  {
   "cell_type": "code",
   "execution_count": 10,
   "id": "77fd96cf",
   "metadata": {},
   "outputs": [
    {
     "name": "stdout",
     "output_type": "stream",
     "text": [
      "Enter student name: dibyalochan behera\n",
      "Enter student roll number: 365\n",
      "Enter marks for math: 95\n",
      "Enter marks for science: 98\n",
      "Enter marks for python :99\n",
      "Student data accepted.\n"
     ]
    }
   ],
   "source": [
    "student_admission()"
   ]
  },
  {
   "cell_type": "code",
   "execution_count": 11,
   "id": "cb172869",
   "metadata": {},
   "outputs": [
    {
     "name": "stdout",
     "output_type": "stream",
     "text": [
      "Enter student name: soumya sovan mishra\n",
      "Enter student roll number: 369\n",
      "Enter marks for math: 89\n",
      "Enter marks for science: 90\n",
      "Enter marks for python :97\n",
      "Student data accepted.\n"
     ]
    }
   ],
   "source": [
    "student_admission()"
   ]
  },
  {
   "cell_type": "code",
   "execution_count": 12,
   "id": "42d2e32d",
   "metadata": {},
   "outputs": [
    {
     "name": "stdout",
     "output_type": "stream",
     "text": [
      "Enter student name: Adishree srikumar\n",
      "Enter student roll number: 300\n",
      "Enter marks for math: 85\n",
      "Enter marks for science: 89\n",
      "Enter marks for python :86\n",
      "Student data accepted.\n"
     ]
    }
   ],
   "source": [
    "student_admission()"
   ]
  },
  {
   "cell_type": "code",
   "execution_count": 13,
   "id": "bf529231",
   "metadata": {},
   "outputs": [
    {
     "name": "stdout",
     "output_type": "stream",
     "text": [
      "Enter student name: subham sagar pradhan\n",
      "Enter student roll number: 368\n",
      "Enter marks for math: 90\n",
      "Enter marks for science: 90\n",
      "Enter marks for python :99\n",
      "Student data accepted.\n"
     ]
    }
   ],
   "source": [
    "student_admission()"
   ]
  },
  {
   "cell_type": "code",
   "execution_count": 14,
   "id": "3bfee3e7",
   "metadata": {},
   "outputs": [
    {
     "name": "stdout",
     "output_type": "stream",
     "text": [
      "Student Data:\n",
      "Name: subham suvendu das\n",
      "Roll Number: 363\n",
      "math: 95.0\n",
      "science: 95.0\n",
      "python: 98.0\n",
      "\n",
      "Name: smrutiranjan behera\n",
      "Roll Number: 364\n",
      "math: 95.0\n",
      "science: 95.0\n",
      "python: 78.0\n",
      "\n",
      "Name: dibyalochan behera\n",
      "Roll Number: 365\n",
      "math: 95.0\n",
      "science: 98.0\n",
      "python: 99.0\n",
      "\n",
      "Name: soumya sovan mishra\n",
      "Roll Number: 369\n",
      "math: 89.0\n",
      "science: 90.0\n",
      "python: 97.0\n",
      "\n",
      "Name: Adishree srikumar\n",
      "Roll Number: 300\n",
      "math: 85.0\n",
      "science: 89.0\n",
      "python: 86.0\n",
      "\n",
      "Name: subham sagar pradhan\n",
      "Roll Number: 368\n",
      "math: 90.0\n",
      "science: 90.0\n",
      "python: 99.0\n",
      "\n"
     ]
    }
   ],
   "source": [
    "display_data()"
   ]
  },
  {
   "cell_type": "code",
   "execution_count": 15,
   "id": "3bee085e",
   "metadata": {},
   "outputs": [
    {
     "name": "stdout",
     "output_type": "stream",
     "text": [
      "Student(s) Found:\n",
      "Name: Adishree srikumar\n",
      "Roll_Number: 300\n",
      "math: 85.0\n",
      "science: 89.0\n",
      "python: 86.0\n",
      "\n"
     ]
    }
   ],
   "source": [
    "display_data_by_name(\"Adishree srikumar\")"
   ]
  },
  {
   "cell_type": "code",
   "execution_count": 16,
   "id": "acdf5de9",
   "metadata": {},
   "outputs": [
    {
     "name": "stdout",
     "output_type": "stream",
     "text": [
      "Data deleted successfully.\n"
     ]
    }
   ],
   "source": [
    "del_data(\"364\")"
   ]
  },
  {
   "cell_type": "code",
   "execution_count": 17,
   "id": "956ae050",
   "metadata": {},
   "outputs": [
    {
     "name": "stdout",
     "output_type": "stream",
     "text": [
      "Enter updated details for the student:\n",
      "Enter updated name: subham sovendu das\n",
      "Enter updated roll number: 363\n",
      "Enter updated marks for math: 99\n",
      "Enter updated marks for science: 98\n",
      "Enter updated marks for python: 99\n",
      "Data updated successfully.\n"
     ]
    }
   ],
   "source": [
    "update_student(\"363\")"
   ]
  },
  {
   "cell_type": "code",
   "execution_count": null,
   "id": "937fec9a",
   "metadata": {},
   "outputs": [],
   "source": []
  }
 ],
 "metadata": {
  "kernelspec": {
   "display_name": "Python 3 (ipykernel)",
   "language": "python",
   "name": "python3"
  },
  "language_info": {
   "codemirror_mode": {
    "name": "ipython",
    "version": 3
   },
   "file_extension": ".py",
   "mimetype": "text/x-python",
   "name": "python",
   "nbconvert_exporter": "python",
   "pygments_lexer": "ipython3",
   "version": "3.10.5"
  }
 },
 "nbformat": 4,
 "nbformat_minor": 5
}
